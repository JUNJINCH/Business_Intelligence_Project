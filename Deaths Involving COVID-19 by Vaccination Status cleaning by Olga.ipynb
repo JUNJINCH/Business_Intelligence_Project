{
 "cells": [
  {
   "cell_type": "code",
   "execution_count": 80,
   "id": "d61dc80f-ac3d-4ef1-8983-8bf467b516d0",
   "metadata": {},
   "outputs": [],
   "source": [
    "# import the libraries we'll need\n",
    "import pandas as pd\n",
    "import numpy as np\n",
    "import matplotlib.pyplot as plt\n",
    "import seaborn as sns\n",
    "# pd.set_option('display.max_columns', 100)\n",
    "pd.set_option('display.max_columns', None)\n",
    "import warnings\n",
    "warnings.filterwarnings('ignore')\n",
    "# %matplotlib inline"
   ]
  },
  {
   "cell_type": "code",
   "execution_count": 82,
   "id": "1aef54ce-a53d-4fa1-9ef0-752af72d3985",
   "metadata": {},
   "outputs": [
    {
     "data": {
      "text/html": [
       "<div>\n",
       "<style scoped>\n",
       "    .dataframe tbody tr th:only-of-type {\n",
       "        vertical-align: middle;\n",
       "    }\n",
       "\n",
       "    .dataframe tbody tr th {\n",
       "        vertical-align: top;\n",
       "    }\n",
       "\n",
       "    .dataframe thead th {\n",
       "        text-align: right;\n",
       "    }\n",
       "</style>\n",
       "<table border=\"1\" class=\"dataframe\">\n",
       "  <thead>\n",
       "    <tr style=\"text-align: right;\">\n",
       "      <th></th>\n",
       "      <th>_id</th>\n",
       "      <th>date</th>\n",
       "      <th>age_group</th>\n",
       "      <th>deaths_boost_vac_rate_7ma</th>\n",
       "      <th>deaths_full_vac_rate_7ma</th>\n",
       "      <th>deaths_not_full_vac_rate_7ma</th>\n",
       "    </tr>\n",
       "  </thead>\n",
       "  <tbody>\n",
       "    <tr>\n",
       "      <th>0</th>\n",
       "      <td>8858</td>\n",
       "      <td>2021-03-01T00:00:00</td>\n",
       "      <td>0-4yrs</td>\n",
       "      <td>0.0</td>\n",
       "      <td>0.0</td>\n",
       "      <td>0.00</td>\n",
       "    </tr>\n",
       "    <tr>\n",
       "      <th>1</th>\n",
       "      <td>8859</td>\n",
       "      <td>2021-03-01T00:00:00</td>\n",
       "      <td>5-11yrs</td>\n",
       "      <td>0.0</td>\n",
       "      <td>0.0</td>\n",
       "      <td>0.00</td>\n",
       "    </tr>\n",
       "    <tr>\n",
       "      <th>2</th>\n",
       "      <td>8860</td>\n",
       "      <td>2021-03-01T00:00:00</td>\n",
       "      <td>12-17yrs</td>\n",
       "      <td>0.0</td>\n",
       "      <td>0.0</td>\n",
       "      <td>0.00</td>\n",
       "    </tr>\n",
       "    <tr>\n",
       "      <th>3</th>\n",
       "      <td>8861</td>\n",
       "      <td>2021-03-01T00:00:00</td>\n",
       "      <td>18-39yrs</td>\n",
       "      <td>0.0</td>\n",
       "      <td>0.0</td>\n",
       "      <td>0.00</td>\n",
       "    </tr>\n",
       "    <tr>\n",
       "      <th>4</th>\n",
       "      <td>8862</td>\n",
       "      <td>2021-03-01T00:00:00</td>\n",
       "      <td>40-59yrs</td>\n",
       "      <td>0.0</td>\n",
       "      <td>0.0</td>\n",
       "      <td>0.02</td>\n",
       "    </tr>\n",
       "    <tr>\n",
       "      <th>5</th>\n",
       "      <td>8863</td>\n",
       "      <td>2021-03-01T00:00:00</td>\n",
       "      <td>60+</td>\n",
       "      <td>0.0</td>\n",
       "      <td>0.0</td>\n",
       "      <td>0.35</td>\n",
       "    </tr>\n",
       "    <tr>\n",
       "      <th>6</th>\n",
       "      <td>8864</td>\n",
       "      <td>2021-03-01T00:00:00</td>\n",
       "      <td>ALL</td>\n",
       "      <td>0.0</td>\n",
       "      <td>0.0</td>\n",
       "      <td>0.09</td>\n",
       "    </tr>\n",
       "    <tr>\n",
       "      <th>7</th>\n",
       "      <td>8865</td>\n",
       "      <td>2021-03-02T00:00:00</td>\n",
       "      <td>0-4yrs</td>\n",
       "      <td>0.0</td>\n",
       "      <td>0.0</td>\n",
       "      <td>0.00</td>\n",
       "    </tr>\n",
       "    <tr>\n",
       "      <th>8</th>\n",
       "      <td>8866</td>\n",
       "      <td>2021-03-02T00:00:00</td>\n",
       "      <td>5-11yrs</td>\n",
       "      <td>0.0</td>\n",
       "      <td>0.0</td>\n",
       "      <td>0.00</td>\n",
       "    </tr>\n",
       "    <tr>\n",
       "      <th>9</th>\n",
       "      <td>8867</td>\n",
       "      <td>2021-03-02T00:00:00</td>\n",
       "      <td>12-17yrs</td>\n",
       "      <td>0.0</td>\n",
       "      <td>0.0</td>\n",
       "      <td>0.00</td>\n",
       "    </tr>\n",
       "  </tbody>\n",
       "</table>\n",
       "</div>"
      ],
      "text/plain": [
       "    _id                 date age_group  deaths_boost_vac_rate_7ma  \\\n",
       "0  8858  2021-03-01T00:00:00    0-4yrs                        0.0   \n",
       "1  8859  2021-03-01T00:00:00   5-11yrs                        0.0   \n",
       "2  8860  2021-03-01T00:00:00  12-17yrs                        0.0   \n",
       "3  8861  2021-03-01T00:00:00  18-39yrs                        0.0   \n",
       "4  8862  2021-03-01T00:00:00  40-59yrs                        0.0   \n",
       "5  8863  2021-03-01T00:00:00       60+                        0.0   \n",
       "6  8864  2021-03-01T00:00:00       ALL                        0.0   \n",
       "7  8865  2021-03-02T00:00:00    0-4yrs                        0.0   \n",
       "8  8866  2021-03-02T00:00:00   5-11yrs                        0.0   \n",
       "9  8867  2021-03-02T00:00:00  12-17yrs                        0.0   \n",
       "\n",
       "   deaths_full_vac_rate_7ma  deaths_not_full_vac_rate_7ma  \n",
       "0                       0.0                          0.00  \n",
       "1                       0.0                          0.00  \n",
       "2                       0.0                          0.00  \n",
       "3                       0.0                          0.00  \n",
       "4                       0.0                          0.02  \n",
       "5                       0.0                          0.35  \n",
       "6                       0.0                          0.09  \n",
       "7                       0.0                          0.00  \n",
       "8                       0.0                          0.00  \n",
       "9                       0.0                          0.00  "
      ]
     },
     "execution_count": 82,
     "metadata": {},
     "output_type": "execute_result"
    }
   ],
   "source": [
    "# Load 'Deaths Involving COVID-19 by Vaccination Status.csv' in a pandas dataframe 'df'\n",
    "df = pd.read_csv('Deaths Involving COVID-19 by Vaccination Status.csv')\n",
    "df.head(10)"
   ]
  },
  {
   "cell_type": "code",
   "execution_count": 84,
   "id": "27bc83bd-c295-4d7f-b4d0-d32f3c053dc6",
   "metadata": {},
   "outputs": [
    {
     "data": {
      "text/html": [
       "<div>\n",
       "<style scoped>\n",
       "    .dataframe tbody tr th:only-of-type {\n",
       "        vertical-align: middle;\n",
       "    }\n",
       "\n",
       "    .dataframe tbody tr th {\n",
       "        vertical-align: top;\n",
       "    }\n",
       "\n",
       "    .dataframe thead th {\n",
       "        text-align: right;\n",
       "    }\n",
       "</style>\n",
       "<table border=\"1\" class=\"dataframe\">\n",
       "  <thead>\n",
       "    <tr style=\"text-align: right;\">\n",
       "      <th></th>\n",
       "      <th>_id</th>\n",
       "      <th>date</th>\n",
       "      <th>age_group</th>\n",
       "      <th>deaths_boost_vac_rate_7ma</th>\n",
       "      <th>deaths_full_vac_rate_7ma</th>\n",
       "      <th>deaths_not_full_vac_rate_7ma</th>\n",
       "    </tr>\n",
       "  </thead>\n",
       "  <tbody>\n",
       "    <tr>\n",
       "      <th>8882</th>\n",
       "      <td>17740</td>\n",
       "      <td>2024-11-09T00:00:00</td>\n",
       "      <td>40-59yrs</td>\n",
       "      <td>0.00</td>\n",
       "      <td>0.0</td>\n",
       "      <td>0.00</td>\n",
       "    </tr>\n",
       "    <tr>\n",
       "      <th>8883</th>\n",
       "      <td>17741</td>\n",
       "      <td>2024-11-09T00:00:00</td>\n",
       "      <td>60+</td>\n",
       "      <td>0.06</td>\n",
       "      <td>0.0</td>\n",
       "      <td>0.39</td>\n",
       "    </tr>\n",
       "    <tr>\n",
       "      <th>8884</th>\n",
       "      <td>17742</td>\n",
       "      <td>2024-11-09T00:00:00</td>\n",
       "      <td>ALL</td>\n",
       "      <td>0.03</td>\n",
       "      <td>0.0</td>\n",
       "      <td>0.02</td>\n",
       "    </tr>\n",
       "    <tr>\n",
       "      <th>8885</th>\n",
       "      <td>17743</td>\n",
       "      <td>2024-11-12T00:00:00</td>\n",
       "      <td>0-4yrs</td>\n",
       "      <td>0.00</td>\n",
       "      <td>0.0</td>\n",
       "      <td>0.00</td>\n",
       "    </tr>\n",
       "    <tr>\n",
       "      <th>8886</th>\n",
       "      <td>17744</td>\n",
       "      <td>2024-11-12T00:00:00</td>\n",
       "      <td>5-11yrs</td>\n",
       "      <td>0.00</td>\n",
       "      <td>0.0</td>\n",
       "      <td>0.00</td>\n",
       "    </tr>\n",
       "    <tr>\n",
       "      <th>8887</th>\n",
       "      <td>17745</td>\n",
       "      <td>2024-11-12T00:00:00</td>\n",
       "      <td>12-17yrs</td>\n",
       "      <td>0.00</td>\n",
       "      <td>0.0</td>\n",
       "      <td>0.00</td>\n",
       "    </tr>\n",
       "    <tr>\n",
       "      <th>8888</th>\n",
       "      <td>17746</td>\n",
       "      <td>2024-11-12T00:00:00</td>\n",
       "      <td>18-39yrs</td>\n",
       "      <td>0.00</td>\n",
       "      <td>0.0</td>\n",
       "      <td>0.00</td>\n",
       "    </tr>\n",
       "    <tr>\n",
       "      <th>8889</th>\n",
       "      <td>17747</td>\n",
       "      <td>2024-11-12T00:00:00</td>\n",
       "      <td>40-59yrs</td>\n",
       "      <td>0.00</td>\n",
       "      <td>0.0</td>\n",
       "      <td>0.00</td>\n",
       "    </tr>\n",
       "    <tr>\n",
       "      <th>8890</th>\n",
       "      <td>17748</td>\n",
       "      <td>2024-11-12T00:00:00</td>\n",
       "      <td>60+</td>\n",
       "      <td>0.05</td>\n",
       "      <td>0.0</td>\n",
       "      <td>0.30</td>\n",
       "    </tr>\n",
       "    <tr>\n",
       "      <th>8891</th>\n",
       "      <td>17749</td>\n",
       "      <td>2024-11-12T00:00:00</td>\n",
       "      <td>ALL</td>\n",
       "      <td>0.02</td>\n",
       "      <td>0.0</td>\n",
       "      <td>0.01</td>\n",
       "    </tr>\n",
       "  </tbody>\n",
       "</table>\n",
       "</div>"
      ],
      "text/plain": [
       "        _id                 date age_group  deaths_boost_vac_rate_7ma  \\\n",
       "8882  17740  2024-11-09T00:00:00  40-59yrs                       0.00   \n",
       "8883  17741  2024-11-09T00:00:00       60+                       0.06   \n",
       "8884  17742  2024-11-09T00:00:00       ALL                       0.03   \n",
       "8885  17743  2024-11-12T00:00:00    0-4yrs                       0.00   \n",
       "8886  17744  2024-11-12T00:00:00   5-11yrs                       0.00   \n",
       "8887  17745  2024-11-12T00:00:00  12-17yrs                       0.00   \n",
       "8888  17746  2024-11-12T00:00:00  18-39yrs                       0.00   \n",
       "8889  17747  2024-11-12T00:00:00  40-59yrs                       0.00   \n",
       "8890  17748  2024-11-12T00:00:00       60+                       0.05   \n",
       "8891  17749  2024-11-12T00:00:00       ALL                       0.02   \n",
       "\n",
       "      deaths_full_vac_rate_7ma  deaths_not_full_vac_rate_7ma  \n",
       "8882                       0.0                          0.00  \n",
       "8883                       0.0                          0.39  \n",
       "8884                       0.0                          0.02  \n",
       "8885                       0.0                          0.00  \n",
       "8886                       0.0                          0.00  \n",
       "8887                       0.0                          0.00  \n",
       "8888                       0.0                          0.00  \n",
       "8889                       0.0                          0.00  \n",
       "8890                       0.0                          0.30  \n",
       "8891                       0.0                          0.01  "
      ]
     },
     "execution_count": 84,
     "metadata": {},
     "output_type": "execute_result"
    }
   ],
   "source": [
    "df.tail(10)"
   ]
  },
  {
   "cell_type": "code",
   "execution_count": 86,
   "id": "a6496cca-2024-44a3-b8f2-4db21cd1da97",
   "metadata": {},
   "outputs": [
    {
     "data": {
      "text/html": [
       "<div>\n",
       "<style scoped>\n",
       "    .dataframe tbody tr th:only-of-type {\n",
       "        vertical-align: middle;\n",
       "    }\n",
       "\n",
       "    .dataframe tbody tr th {\n",
       "        vertical-align: top;\n",
       "    }\n",
       "\n",
       "    .dataframe thead th {\n",
       "        text-align: right;\n",
       "    }\n",
       "</style>\n",
       "<table border=\"1\" class=\"dataframe\">\n",
       "  <thead>\n",
       "    <tr style=\"text-align: right;\">\n",
       "      <th></th>\n",
       "      <th>_id</th>\n",
       "      <th>deaths_boost_vac_rate_7ma</th>\n",
       "      <th>deaths_full_vac_rate_7ma</th>\n",
       "      <th>deaths_not_full_vac_rate_7ma</th>\n",
       "    </tr>\n",
       "  </thead>\n",
       "  <tbody>\n",
       "    <tr>\n",
       "      <th>count</th>\n",
       "      <td>8892.00000</td>\n",
       "      <td>8892.000000</td>\n",
       "      <td>8892.000000</td>\n",
       "      <td>8892.000000</td>\n",
       "    </tr>\n",
       "    <tr>\n",
       "      <th>mean</th>\n",
       "      <td>13303.50000</td>\n",
       "      <td>0.024245</td>\n",
       "      <td>0.023695</td>\n",
       "      <td>0.261889</td>\n",
       "    </tr>\n",
       "    <tr>\n",
       "      <th>std</th>\n",
       "      <td>2567.04363</td>\n",
       "      <td>0.067461</td>\n",
       "      <td>0.109072</td>\n",
       "      <td>1.218294</td>\n",
       "    </tr>\n",
       "    <tr>\n",
       "      <th>min</th>\n",
       "      <td>8858.00000</td>\n",
       "      <td>0.000000</td>\n",
       "      <td>0.000000</td>\n",
       "      <td>0.000000</td>\n",
       "    </tr>\n",
       "    <tr>\n",
       "      <th>25%</th>\n",
       "      <td>11080.75000</td>\n",
       "      <td>0.000000</td>\n",
       "      <td>0.000000</td>\n",
       "      <td>0.000000</td>\n",
       "    </tr>\n",
       "    <tr>\n",
       "      <th>50%</th>\n",
       "      <td>13303.50000</td>\n",
       "      <td>0.000000</td>\n",
       "      <td>0.000000</td>\n",
       "      <td>0.000000</td>\n",
       "    </tr>\n",
       "    <tr>\n",
       "      <th>75%</th>\n",
       "      <td>15526.25000</td>\n",
       "      <td>0.010000</td>\n",
       "      <td>0.000000</td>\n",
       "      <td>0.030000</td>\n",
       "    </tr>\n",
       "    <tr>\n",
       "      <th>max</th>\n",
       "      <td>17749.00000</td>\n",
       "      <td>0.810000</td>\n",
       "      <td>1.970000</td>\n",
       "      <td>18.330000</td>\n",
       "    </tr>\n",
       "  </tbody>\n",
       "</table>\n",
       "</div>"
      ],
      "text/plain": [
       "               _id  deaths_boost_vac_rate_7ma  deaths_full_vac_rate_7ma  \\\n",
       "count   8892.00000                8892.000000               8892.000000   \n",
       "mean   13303.50000                   0.024245                  0.023695   \n",
       "std     2567.04363                   0.067461                  0.109072   \n",
       "min     8858.00000                   0.000000                  0.000000   \n",
       "25%    11080.75000                   0.000000                  0.000000   \n",
       "50%    13303.50000                   0.000000                  0.000000   \n",
       "75%    15526.25000                   0.010000                  0.000000   \n",
       "max    17749.00000                   0.810000                  1.970000   \n",
       "\n",
       "       deaths_not_full_vac_rate_7ma  \n",
       "count                   8892.000000  \n",
       "mean                       0.261889  \n",
       "std                        1.218294  \n",
       "min                        0.000000  \n",
       "25%                        0.000000  \n",
       "50%                        0.000000  \n",
       "75%                        0.030000  \n",
       "max                       18.330000  "
      ]
     },
     "execution_count": 86,
     "metadata": {},
     "output_type": "execute_result"
    }
   ],
   "source": [
    "df.describe()"
   ]
  },
  {
   "cell_type": "code",
   "execution_count": 88,
   "id": "ca30c7a7-e100-48a1-97f0-2c6c15cee28e",
   "metadata": {},
   "outputs": [
    {
     "name": "stdout",
     "output_type": "stream",
     "text": [
      "<class 'pandas.core.frame.DataFrame'>\n",
      "RangeIndex: 8892 entries, 0 to 8891\n",
      "Data columns (total 6 columns):\n",
      " #   Column                        Non-Null Count  Dtype  \n",
      "---  ------                        --------------  -----  \n",
      " 0   _id                           8892 non-null   int64  \n",
      " 1   date                          8892 non-null   object \n",
      " 2   age_group                     8892 non-null   object \n",
      " 3   deaths_boost_vac_rate_7ma     8892 non-null   float64\n",
      " 4   deaths_full_vac_rate_7ma      8892 non-null   float64\n",
      " 5   deaths_not_full_vac_rate_7ma  8892 non-null   float64\n",
      "dtypes: float64(3), int64(1), object(2)\n",
      "memory usage: 416.9+ KB\n"
     ]
    }
   ],
   "source": [
    "df.info()"
   ]
  },
  {
   "cell_type": "code",
   "execution_count": 106,
   "id": "1b5d8f9c-9ad9-497f-9ded-f22c95024d15",
   "metadata": {},
   "outputs": [],
   "source": [
    "def plotvariable(df, variable):\n",
    "    plt.figure(figsize=(16,4))\n",
    "    # histogram\n",
    "    plt.subplot(1,2,1)\n",
    "    plt.hist(df[variable], alpha=0.5)\n",
    "\n",
    "    # boxplot\n",
    "    plt.subplot(1,2,2)\n",
    "    sns.boxplot(df, x=variable)\n",
    "    plt.show()"
   ]
  },
  {
   "cell_type": "code",
   "execution_count": 108,
   "id": "77ab7cb4-6d6c-47a6-8a70-91e06d889d6e",
   "metadata": {},
   "outputs": [
    {
     "data": {
      "image/png": "[encoded data removed]",
      "text/plain": [
       "<Figure size 1600x400 with 2 Axes>"
      ]
     },
     "metadata": {},
     "output_type": "display_data"
    }
   ],
   "source": [
    "plotvariable(df, 'deaths_boost_vac_rate_7ma')"
   ]
  },
  {
   "cell_type": "code",
   "execution_count": 110,
   "id": "5a7bbd70-4e16-44d1-a5de-ce22878de026",
   "metadata": {},
   "outputs": [
    {
     "data": {
      "image/png": "[encoded data removed]",
      "text/plain": [
       "<Figure size 1600x400 with 2 Axes>"
      ]
     },
     "metadata": {},
     "output_type": "display_data"
    }
   ],
   "source": [
    "plotvariable(df, 'deaths_full_vac_rate_7ma')"
   ]
  },
  {
   "cell_type": "code",
   "execution_count": 112,
   "id": "f801d5d5-8e1b-479c-878a-a28d5c818230",
   "metadata": {},
   "outputs": [
    {
     "data": {
      "image/png": "[encoded data removed]",
      "text/plain": [
       "<Figure size 1600x400 with 2 Axes>"
      ]
     },
     "metadata": {},
     "output_type": "display_data"
    }
   ],
   "source": [
    "plotvariable(df, 'deaths_not_full_vac_rate_7ma')"
   ]
  },
  {
   "cell_type": "code",
   "execution_count": 126,
   "id": "7434a4fe-fce6-4fb0-ad01-1dc427451dc0",
   "metadata": {},
   "outputs": [],
   "source": [
    "def find_boundaries(df, variables):\n",
    "    # lets find the IOR (Inter quantile range)\n",
    "    Q1 = df[variables].quantile(.25)\n",
    "    Q3 = df[variables].quantile(.75)\n",
    "    IQR = Q3 - Q1\n",
    "    lower_boundary = Q1-1.5*IQR\n",
    "    upper_boundary = Q1+1.5*IQR\n",
    "\n",
    "    return lower_boundary, upper_boundary"
   ]
  },
  {
   "cell_type": "code",
   "execution_count": 128,
   "id": "558b241b-97c8-40ae-844a-f2af9275328c",
   "metadata": {},
   "outputs": [
    {
     "name": "stdout",
     "output_type": "stream",
     "text": [
      "upper limit for deaths_boost_vac_rate_7ma is 0.015\n",
      "lower limit for deaths_boost_vac_rate_7ma is -0.015\n"
     ]
    }
   ],
   "source": [
    "lower_deaths_boost_vac_rate_7ma, upper_deaths_boost_vac_rate_7ma = find_boundaries(df, 'deaths_boost_vac_rate_7ma')\n",
    "print('upper limit for deaths_boost_vac_rate_7ma is', upper_deaths_boost_vac_rate_7ma)\n",
    "print('lower limit for deaths_boost_vac_rate_7ma is', lower_deaths_boost_vac_rate_7ma)"
   ]
  },
  {
   "cell_type": "code",
   "execution_count": 130,
   "id": "d93f6e99-3890-42ea-bd20-3c8e2ba8745d",
   "metadata": {},
   "outputs": [
    {
     "name": "stdout",
     "output_type": "stream",
     "text": [
      "upper limit for deaths_full_vac_rate_7ma is 0.0\n",
      "lower limit for deaths_full_vac_rate_7ma is 0.0\n"
     ]
    }
   ],
   "source": [
    "lower_deaths_full_vac_rate_7ma, upper_deaths_full_vac_rate_7ma = find_boundaries(df, 'deaths_full_vac_rate_7ma')\n",
    "print('upper limit for deaths_full_vac_rate_7ma is', upper_deaths_full_vac_rate_7ma)\n",
    "print('lower limit for deaths_full_vac_rate_7ma is', lower_deaths_full_vac_rate_7ma)"
   ]
  },
  {
   "cell_type": "code",
   "execution_count": 132,
   "id": "5f0cebcf-7949-4bc8-86e5-be09e20099ca",
   "metadata": {},
   "outputs": [
    {
     "name": "stdout",
     "output_type": "stream",
     "text": [
      "upper limit for deaths_not_full_vac_rate_7ma is 0.045\n",
      "lower limit for deaths_not_full_vac_rate_7ma is -0.045\n"
     ]
    }
   ],
   "source": [
    "lower_deaths_not_full_vac_rate_7ma, upper_deaths_not_full_vac_rate_7ma = find_boundaries(df, 'deaths_not_full_vac_rate_7ma')\n",
    "print('upper limit for deaths_not_full_vac_rate_7ma is', upper_deaths_not_full_vac_rate_7ma)\n",
    "print('lower limit for deaths_not_full_vac_rate_7ma is', lower_deaths_not_full_vac_rate_7ma)"
   ]
  },
  {
   "cell_type": "code",
   "execution_count": 136,
   "id": "4a20014d-40da-45e3-b170-34a25f15c635",
   "metadata": {},
   "outputs": [],
   "source": [
    "# Removing / trimming the outliers\n",
    "\n",
    "outliers_deaths_boost_vac_rate_7ma = np.where(df['deaths_boost_vac_rate_7ma'] > upper_deaths_boost_vac_rate_7ma, True,\n",
    "                                             np.where(df['deaths_boost_vac_rate_7ma'] < lower_deaths_boost_vac_rate_7ma, True, False))"
   ]
  },
  {
   "cell_type": "code",
   "execution_count": 142,
   "id": "14eab549-6031-47ea-8e37-f6229780f6c5",
   "metadata": {},
   "outputs": [],
   "source": [
    "outliers_deaths_full_vac_rate_7ma = np.where(df['deaths_full_vac_rate_7ma'] > upper_deaths_full_vac_rate_7ma, True,\n",
    "                                             np.where(df['deaths_full_vac_rate_7ma'] < lower_deaths_full_vac_rate_7ma, True, False))"
   ]
  },
  {
   "cell_type": "code",
   "execution_count": 144,
   "id": "56eaca21-afe7-4339-9f32-e73646cec5b0",
   "metadata": {},
   "outputs": [],
   "source": [
    "outliers_deaths_not_full_vac_rate_7ma = np.where(df['deaths_not_full_vac_rate_7ma'] > upper_deaths_not_full_vac_rate_7ma, True,\n",
    "                                             np.where(df['deaths_not_full_vac_rate_7ma'] < lower_deaths_not_full_vac_rate_7ma, True, False))"
   ]
  },
  {
   "cell_type": "code",
   "execution_count": 138,
   "id": "5b8193ac-5a22-49a2-91ec-66f92e4b0dfa",
   "metadata": {},
   "outputs": [
    {
     "data": {
      "text/plain": [
       "array([False, False, False, ..., False,  True,  True])"
      ]
     },
     "execution_count": 138,
     "metadata": {},
     "output_type": "execute_result"
    }
   ],
   "source": [
    "outliers_deaths_boost_vac_rate_7ma"
   ]
  },
  {
   "cell_type": "code",
   "execution_count": 146,
   "id": "3d335770-45cb-4d77-ac01-2e8802d42ac3",
   "metadata": {},
   "outputs": [
    {
     "data": {
      "text/plain": [
       "array([False, False, False, ..., False, False, False])"
      ]
     },
     "execution_count": 146,
     "metadata": {},
     "output_type": "execute_result"
    }
   ],
   "source": [
    "outliers_deaths_full_vac_rate_7ma"
   ]
  },
  {
   "cell_type": "code",
   "execution_count": 148,
   "id": "f4586450-aa8d-433e-bbab-af8d3cd6592a",
   "metadata": {},
   "outputs": [
    {
     "data": {
      "text/plain": [
       "array([False, False, False, ..., False,  True, False])"
      ]
     },
     "execution_count": 148,
     "metadata": {},
     "output_type": "execute_result"
    }
   ],
   "source": [
    "outliers_deaths_not_full_vac_rate_7ma"
   ]
  },
  {
   "cell_type": "code",
   "execution_count": 140,
   "id": "a5d5e9f8-395f-4aaa-aa3d-2ca2d7c64147",
   "metadata": {},
   "outputs": [
    {
     "data": {
      "text/plain": [
       "(8892, 6)"
      ]
     },
     "execution_count": 140,
     "metadata": {},
     "output_type": "execute_result"
    }
   ],
   "source": [
    "df.shape"
   ]
  },
  {
   "cell_type": "code",
   "execution_count": 230,
   "id": "126fed64-689d-4f6a-84bc-e1fece59dff2",
   "metadata": {},
   "outputs": [],
   "source": [
    "engineered_df_boost = df.loc[~(outliers_deaths_boost_vac_rate_7ma),] "
   ]
  },
  {
   "cell_type": "code",
   "execution_count": 232,
   "id": "d6dcaad6-e40c-4479-a2d1-67dee6603d73",
   "metadata": {},
   "outputs": [
    {
     "data": {
      "text/plain": [
       "(6982, 6)"
      ]
     },
     "execution_count": 232,
     "metadata": {},
     "output_type": "execute_result"
    }
   ],
   "source": [
    "engineered_df_boost.shape"
   ]
  },
  {
   "cell_type": "code",
   "execution_count": 234,
   "id": "116dfc4a-fd29-4f74-9fd1-095adbf6e93b",
   "metadata": {},
   "outputs": [],
   "source": [
    "engineered_df_full = df.loc[~(outliers_deaths_full_vac_rate_7ma),] "
   ]
  },
  {
   "cell_type": "code",
   "execution_count": 236,
   "id": "85a3424a-1eeb-45b7-a283-e51e03d835c0",
   "metadata": {},
   "outputs": [
    {
     "data": {
      "text/plain": [
       "(6675, 6)"
      ]
     },
     "execution_count": 236,
     "metadata": {},
     "output_type": "execute_result"
    }
   ],
   "source": [
    "engineered_df_full.shape"
   ]
  },
  {
   "cell_type": "code",
   "execution_count": 238,
   "id": "f16e3f9f-b802-4b1f-bf49-a33d286402f4",
   "metadata": {},
   "outputs": [],
   "source": [
    "engineered_df_not_full = df.loc[~(outliers_deaths_not_full_vac_rate_7ma),] "
   ]
  },
  {
   "cell_type": "code",
   "execution_count": 240,
   "id": "9a388847-e76f-49ac-b53c-1eb833350dcd",
   "metadata": {},
   "outputs": [
    {
     "data": {
      "text/plain": [
       "(6912, 6)"
      ]
     },
     "execution_count": 240,
     "metadata": {},
     "output_type": "execute_result"
    }
   ],
   "source": [
    "engineered_df_not_full.shape"
   ]
  },
  {
   "cell_type": "code",
   "execution_count": 244,
   "id": "950dc757-bb92-4d7a-a359-6181b0885773",
   "metadata": {},
   "outputs": [
    {
     "data": {
      "image/png": "[encoded data removed]",
      "text/plain": [
       "<Figure size 1600x400 with 2 Axes>"
      ]
     },
     "metadata": {},
     "output_type": "display_data"
    }
   ],
   "source": [
    "plotvariable(engineered_df_boost, 'deaths_boost_vac_rate_7ma')"
   ]
  },
  {
   "cell_type": "code",
   "execution_count": 246,
   "id": "f8847259-4f58-4b13-bd24-9396e1138f2f",
   "metadata": {},
   "outputs": [
    {
     "data": {
      "image/png": "[encoded data removed]",
      "text/plain": [
       "<Figure size 1600x400 with 2 Axes>"
      ]
     },
     "metadata": {},
     "output_type": "display_data"
    }
   ],
   "source": [
    "plotvariable(engineered_df_full, 'deaths_full_vac_rate_7ma')"
   ]
  },
  {
   "cell_type": "code",
   "execution_count": 248,
   "id": "6567121e-18e7-41a6-8e06-1eb287c8aa4f",
   "metadata": {},
   "outputs": [
    {
     "data": {
      "image/png": "[encoded data removed]",
      "text/plain": [
       "<Figure size 1600x400 with 2 Axes>"
      ]
     },
     "metadata": {},
     "output_type": "display_data"
    }
   ],
   "source": [
    "plotvariable(engineered_df_not_full, 'deaths_not_full_vac_rate_7ma')"
   ]
  },
  {
   "cell_type": "code",
   "execution_count": 256,
   "id": "552e6b86-bc03-4c09-a98c-1adb1670c782",
   "metadata": {},
   "outputs": [],
   "source": [
    "# capping variables at upper and lower limits\n",
    "\n",
    "df['deaths_boost_vac_rate_7ma'] = np.where(df['deaths_boost_vac_rate_7ma'] > upper_deaths_boost_vac_rate_7ma, upper_deaths_boost_vac_rate_7ma,\n",
    "                                          np.where(df['deaths_boost_vac_rate_7ma'] < lower_deaths_boost_vac_rate_7ma, lower_deaths_boost_vac_rate_7ma, df['deaths_boost_vac_rate_7ma']))"
   ]
  },
  {
   "cell_type": "code",
   "execution_count": 258,
   "id": "29ad4c61-da6c-457a-9375-2593df74b737",
   "metadata": {},
   "outputs": [],
   "source": [
    "df['deaths_full_vac_rate_7ma'] = np.where(df['deaths_full_vac_rate_7ma'] > upper_deaths_full_vac_rate_7ma, upper_deaths_full_vac_rate_7ma,\n",
    "                                          np.where(df['deaths_full_vac_rate_7ma'] < lower_deaths_full_vac_rate_7ma, lower_deaths_full_vac_rate_7ma, df['deaths_full_vac_rate_7ma']))"
   ]
  },
  {
   "cell_type": "code",
   "execution_count": 262,
   "id": "d5424e83-766d-4761-b0f8-0a07c01dd3c9",
   "metadata": {},
   "outputs": [],
   "source": [
    "df['deaths_not_full_vac_rate_7ma'] = np.where(df['deaths_not_full_vac_rate_7ma'] > upper_deaths_not_full_vac_rate_7ma, upper_deaths_not_full_vac_rate_7ma,\n",
    "                                          np.where(df['deaths_not_full_vac_rate_7ma'] < lower_deaths_not_full_vac_rate_7ma, lower_deaths_not_full_vac_rate_7ma, df['deaths_not_full_vac_rate_7ma']))"
   ]
  },
  {
   "cell_type": "code",
   "execution_count": 254,
   "id": "29aca1b3-02e5-4d2a-a7fa-04806d4bd53f",
   "metadata": {},
   "outputs": [
    {
     "data": {
      "image/png": "[encoded data removed]",
      "text/plain": [
       "<Figure size 1600x400 with 2 Axes>"
      ]
     },
     "metadata": {},
     "output_type": "display_data"
    }
   ],
   "source": [
    "plotvariable(df, 'deaths_boost_vac_rate_7ma')"
   ]
  },
  {
   "cell_type": "code",
   "execution_count": 260,
   "id": "91c6ca40-151e-45af-be40-3a9033f96751",
   "metadata": {},
   "outputs": [
    {
     "data": {
      "image/png": "[encoded data removed]",
      "text/plain": [
       "<Figure size 1600x400 with 2 Axes>"
      ]
     },
     "metadata": {},
     "output_type": "display_data"
    }
   ],
   "source": [
    "plotvariable(df, 'deaths_full_vac_rate_7ma')"
   ]
  },
  {
   "cell_type": "code",
   "execution_count": 264,
   "id": "768b08d4-686f-4b6e-80f0-7eb9d288be79",
   "metadata": {},
   "outputs": [
    {
     "data": {
      "image/png": "[encoded data removed]",
      "text/plain": [
       "<Figure size 1600x400 with 2 Axes>"
      ]
     },
     "metadata": {},
     "output_type": "display_data"
    }
   ],
   "source": [
    "plotvariable(df, 'deaths_not_full_vac_rate_7ma')"
   ]
  },
  {
   "cell_type": "code",
   "execution_count": 266,
   "id": "3d09d0c0-094e-44a0-9fe1-bbca059cc12b",
   "metadata": {},
   "outputs": [],
   "source": [
    "# save the cleaned dataframe as 'cleaned_deaths_involving_covid-19_by_vaccination_status_df'\n",
    "df.to_csv('cleaned_deaths_involving_covid-19_by_vaccination_status_df.csv', index=None)"
   ]
  },
  {
   "cell_type": "code",
   "execution_count": 270,
   "id": "98f4c0f5-e786-49d4-a0c2-409732d375cb",
   "metadata": {},
   "outputs": [
    {
     "data": {
      "text/html": [
       "<div>\n",
       "<style scoped>\n",
       "    .dataframe tbody tr th:only-of-type {\n",
       "        vertical-align: middle;\n",
       "    }\n",
       "\n",
       "    .dataframe tbody tr th {\n",
       "        vertical-align: top;\n",
       "    }\n",
       "\n",
       "    .dataframe thead th {\n",
       "        text-align: right;\n",
       "    }\n",
       "</style>\n",
       "<table border=\"1\" class=\"dataframe\">\n",
       "  <thead>\n",
       "    <tr style=\"text-align: right;\">\n",
       "      <th></th>\n",
       "      <th>_id</th>\n",
       "      <th>date</th>\n",
       "      <th>age_group</th>\n",
       "      <th>deaths_boost_vac_rate_7ma</th>\n",
       "      <th>deaths_full_vac_rate_7ma</th>\n",
       "      <th>deaths_not_full_vac_rate_7ma</th>\n",
       "    </tr>\n",
       "  </thead>\n",
       "  <tbody>\n",
       "    <tr>\n",
       "      <th>0</th>\n",
       "      <td>8858</td>\n",
       "      <td>2021-03-01T00:00:00</td>\n",
       "      <td>0-4yrs</td>\n",
       "      <td>0.000</td>\n",
       "      <td>0.0</td>\n",
       "      <td>0.000</td>\n",
       "    </tr>\n",
       "    <tr>\n",
       "      <th>1</th>\n",
       "      <td>8859</td>\n",
       "      <td>2021-03-01T00:00:00</td>\n",
       "      <td>5-11yrs</td>\n",
       "      <td>0.000</td>\n",
       "      <td>0.0</td>\n",
       "      <td>0.000</td>\n",
       "    </tr>\n",
       "    <tr>\n",
       "      <th>2</th>\n",
       "      <td>8860</td>\n",
       "      <td>2021-03-01T00:00:00</td>\n",
       "      <td>12-17yrs</td>\n",
       "      <td>0.000</td>\n",
       "      <td>0.0</td>\n",
       "      <td>0.000</td>\n",
       "    </tr>\n",
       "    <tr>\n",
       "      <th>3</th>\n",
       "      <td>8861</td>\n",
       "      <td>2021-03-01T00:00:00</td>\n",
       "      <td>18-39yrs</td>\n",
       "      <td>0.000</td>\n",
       "      <td>0.0</td>\n",
       "      <td>0.000</td>\n",
       "    </tr>\n",
       "    <tr>\n",
       "      <th>4</th>\n",
       "      <td>8862</td>\n",
       "      <td>2021-03-01T00:00:00</td>\n",
       "      <td>40-59yrs</td>\n",
       "      <td>0.000</td>\n",
       "      <td>0.0</td>\n",
       "      <td>0.020</td>\n",
       "    </tr>\n",
       "    <tr>\n",
       "      <th>...</th>\n",
       "      <td>...</td>\n",
       "      <td>...</td>\n",
       "      <td>...</td>\n",
       "      <td>...</td>\n",
       "      <td>...</td>\n",
       "      <td>...</td>\n",
       "    </tr>\n",
       "    <tr>\n",
       "      <th>8887</th>\n",
       "      <td>17745</td>\n",
       "      <td>2024-11-12T00:00:00</td>\n",
       "      <td>12-17yrs</td>\n",
       "      <td>0.000</td>\n",
       "      <td>0.0</td>\n",
       "      <td>0.000</td>\n",
       "    </tr>\n",
       "    <tr>\n",
       "      <th>8888</th>\n",
       "      <td>17746</td>\n",
       "      <td>2024-11-12T00:00:00</td>\n",
       "      <td>18-39yrs</td>\n",
       "      <td>0.000</td>\n",
       "      <td>0.0</td>\n",
       "      <td>0.000</td>\n",
       "    </tr>\n",
       "    <tr>\n",
       "      <th>8889</th>\n",
       "      <td>17747</td>\n",
       "      <td>2024-11-12T00:00:00</td>\n",
       "      <td>40-59yrs</td>\n",
       "      <td>0.000</td>\n",
       "      <td>0.0</td>\n",
       "      <td>0.000</td>\n",
       "    </tr>\n",
       "    <tr>\n",
       "      <th>8890</th>\n",
       "      <td>17748</td>\n",
       "      <td>2024-11-12T00:00:00</td>\n",
       "      <td>60+</td>\n",
       "      <td>0.015</td>\n",
       "      <td>0.0</td>\n",
       "      <td>0.045</td>\n",
       "    </tr>\n",
       "    <tr>\n",
       "      <th>8891</th>\n",
       "      <td>17749</td>\n",
       "      <td>2024-11-12T00:00:00</td>\n",
       "      <td>ALL</td>\n",
       "      <td>0.015</td>\n",
       "      <td>0.0</td>\n",
       "      <td>0.010</td>\n",
       "    </tr>\n",
       "  </tbody>\n",
       "</table>\n",
       "<p>8892 rows × 6 columns</p>\n",
       "</div>"
      ],
      "text/plain": [
       "        _id                 date age_group  deaths_boost_vac_rate_7ma  \\\n",
       "0      8858  2021-03-01T00:00:00    0-4yrs                      0.000   \n",
       "1      8859  2021-03-01T00:00:00   5-11yrs                      0.000   \n",
       "2      8860  2021-03-01T00:00:00  12-17yrs                      0.000   \n",
       "3      8861  2021-03-01T00:00:00  18-39yrs                      0.000   \n",
       "4      8862  2021-03-01T00:00:00  40-59yrs                      0.000   \n",
       "...     ...                  ...       ...                        ...   \n",
       "8887  17745  2024-11-12T00:00:00  12-17yrs                      0.000   \n",
       "8888  17746  2024-11-12T00:00:00  18-39yrs                      0.000   \n",
       "8889  17747  2024-11-12T00:00:00  40-59yrs                      0.000   \n",
       "8890  17748  2024-11-12T00:00:00       60+                      0.015   \n",
       "8891  17749  2024-11-12T00:00:00       ALL                      0.015   \n",
       "\n",
       "      deaths_full_vac_rate_7ma  deaths_not_full_vac_rate_7ma  \n",
       "0                          0.0                         0.000  \n",
       "1                          0.0                         0.000  \n",
       "2                          0.0                         0.000  \n",
       "3                          0.0                         0.000  \n",
       "4                          0.0                         0.020  \n",
       "...                        ...                           ...  \n",
       "8887                       0.0                         0.000  \n",
       "8888                       0.0                         0.000  \n",
       "8889                       0.0                         0.000  \n",
       "8890                       0.0                         0.045  \n",
       "8891                       0.0                         0.010  \n",
       "\n",
       "[8892 rows x 6 columns]"
      ]
     },
     "execution_count": 270,
     "metadata": {},
     "output_type": "execute_result"
    }
   ],
   "source": [
    "new = pd.read_csv('cleaned_deaths_involving_covid-19_by_vaccination_status_df.csv')\n",
    "new"
   ]
  },
  {
   "cell_type": "code",
   "execution_count": 272,
   "id": "c2be5292-387e-4f60-a1ff-55464b5156a4",
   "metadata": {},
   "outputs": [
    {
     "data": {
      "text/html": [
       "<div>\n",
       "<style scoped>\n",
       "    .dataframe tbody tr th:only-of-type {\n",
       "        vertical-align: middle;\n",
       "    }\n",
       "\n",
       "    .dataframe tbody tr th {\n",
       "        vertical-align: top;\n",
       "    }\n",
       "\n",
       "    .dataframe thead th {\n",
       "        text-align: right;\n",
       "    }\n",
       "</style>\n",
       "<table border=\"1\" class=\"dataframe\">\n",
       "  <thead>\n",
       "    <tr style=\"text-align: right;\">\n",
       "      <th></th>\n",
       "      <th>_id</th>\n",
       "      <th>deaths_boost_vac_rate_7ma</th>\n",
       "      <th>deaths_full_vac_rate_7ma</th>\n",
       "      <th>deaths_not_full_vac_rate_7ma</th>\n",
       "    </tr>\n",
       "  </thead>\n",
       "  <tbody>\n",
       "    <tr>\n",
       "      <th>count</th>\n",
       "      <td>8892.00000</td>\n",
       "      <td>8892.000000</td>\n",
       "      <td>8892.0</td>\n",
       "      <td>8892.000000</td>\n",
       "    </tr>\n",
       "    <tr>\n",
       "      <th>mean</th>\n",
       "      <td>13303.50000</td>\n",
       "      <td>0.003884</td>\n",
       "      <td>0.0</td>\n",
       "      <td>0.012973</td>\n",
       "    </tr>\n",
       "    <tr>\n",
       "      <th>std</th>\n",
       "      <td>2567.04363</td>\n",
       "      <td>0.006314</td>\n",
       "      <td>0.0</td>\n",
       "      <td>0.018981</td>\n",
       "    </tr>\n",
       "    <tr>\n",
       "      <th>min</th>\n",
       "      <td>8858.00000</td>\n",
       "      <td>0.000000</td>\n",
       "      <td>0.0</td>\n",
       "      <td>0.000000</td>\n",
       "    </tr>\n",
       "    <tr>\n",
       "      <th>25%</th>\n",
       "      <td>11080.75000</td>\n",
       "      <td>0.000000</td>\n",
       "      <td>0.0</td>\n",
       "      <td>0.000000</td>\n",
       "    </tr>\n",
       "    <tr>\n",
       "      <th>50%</th>\n",
       "      <td>13303.50000</td>\n",
       "      <td>0.000000</td>\n",
       "      <td>0.0</td>\n",
       "      <td>0.000000</td>\n",
       "    </tr>\n",
       "    <tr>\n",
       "      <th>75%</th>\n",
       "      <td>15526.25000</td>\n",
       "      <td>0.010000</td>\n",
       "      <td>0.0</td>\n",
       "      <td>0.030000</td>\n",
       "    </tr>\n",
       "    <tr>\n",
       "      <th>max</th>\n",
       "      <td>17749.00000</td>\n",
       "      <td>0.015000</td>\n",
       "      <td>0.0</td>\n",
       "      <td>0.045000</td>\n",
       "    </tr>\n",
       "  </tbody>\n",
       "</table>\n",
       "</div>"
      ],
      "text/plain": [
       "               _id  deaths_boost_vac_rate_7ma  deaths_full_vac_rate_7ma  \\\n",
       "count   8892.00000                8892.000000                    8892.0   \n",
       "mean   13303.50000                   0.003884                       0.0   \n",
       "std     2567.04363                   0.006314                       0.0   \n",
       "min     8858.00000                   0.000000                       0.0   \n",
       "25%    11080.75000                   0.000000                       0.0   \n",
       "50%    13303.50000                   0.000000                       0.0   \n",
       "75%    15526.25000                   0.010000                       0.0   \n",
       "max    17749.00000                   0.015000                       0.0   \n",
       "\n",
       "       deaths_not_full_vac_rate_7ma  \n",
       "count                   8892.000000  \n",
       "mean                       0.012973  \n",
       "std                        0.018981  \n",
       "min                        0.000000  \n",
       "25%                        0.000000  \n",
       "50%                        0.000000  \n",
       "75%                        0.030000  \n",
       "max                        0.045000  "
      ]
     },
     "execution_count": 272,
     "metadata": {},
     "output_type": "execute_result"
    }
   ],
   "source": [
    "new.describe()"
   ]
  },
  {
   "cell_type": "code",
   "execution_count": 274,
   "id": "d7b92e02-53a3-4374-8aff-b21984bfe432",
   "metadata": {},
   "outputs": [
    {
     "data": {
      "text/plain": [
       "array(['0-4yrs', '5-11yrs', '12-17yrs', '18-39yrs', '40-59yrs', '60+',\n",
       "       'ALL'], dtype=object)"
      ]
     },
     "execution_count": 274,
     "metadata": {},
     "output_type": "execute_result"
    }
   ],
   "source": [
    "df['age_group'].unique()"
   ]
  },
  {
   "cell_type": "code",
   "execution_count": 276,
   "id": "1d92beb9-debd-41aa-b18e-09e86beb42d3",
   "metadata": {},
   "outputs": [
    {
     "data": {
      "text/plain": [
       "array([0.   , 0.015, 0.01 ])"
      ]
     },
     "execution_count": 276,
     "metadata": {},
     "output_type": "execute_result"
    }
   ],
   "source": [
    "df['deaths_boost_vac_rate_7ma'].unique()"
   ]
  },
  {
   "cell_type": "code",
   "execution_count": 278,
   "id": "3e02fca4-0278-4112-b357-47ffb73d1a06",
   "metadata": {},
   "outputs": [
    {
     "data": {
      "text/plain": [
       "array([0.])"
      ]
     },
     "execution_count": 278,
     "metadata": {},
     "output_type": "execute_result"
    }
   ],
   "source": [
    "df['deaths_full_vac_rate_7ma'].unique()"
   ]
  },
  {
   "cell_type": "code",
   "execution_count": 280,
   "id": "9fd55ce5-e30c-45c9-b5f4-79acee823988",
   "metadata": {},
   "outputs": [
    {
     "data": {
      "text/plain": [
       "array([0.   , 0.02 , 0.045, 0.04 , 0.03 , 0.01 ])"
      ]
     },
     "execution_count": 280,
     "metadata": {},
     "output_type": "execute_result"
    }
   ],
   "source": [
    "df['deaths_not_full_vac_rate_7ma'].unique()"
   ]
  },
  {
   "cell_type": "code",
   "execution_count": null,
   "id": "0e4cc7bf-e186-4a3d-b600-e83f6f61c7c3",
   "metadata": {},
   "outputs": [],
   "source": []
  }
 ],
 "metadata": {
  "kernelspec": {
   "display_name": "Python 3 (ipykernel)",
   "language": "python",
   "name": "python3"
  },
  "language_info": {
   "codemirror_mode": {
    "name": "ipython",
    "version": 3
   },
   "file_extension": ".py",
   "mimetype": "text/x-python",
   "name": "python",
   "nbconvert_exporter": "python",
   "pygments_lexer": "ipython3",
   "version": "3.12.4"
  }
 },
 "nbformat": 4,
 "nbformat_minor": 5
}
